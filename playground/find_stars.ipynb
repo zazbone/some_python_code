{
 "cells": [
  {
   "cell_type": "code",
   "execution_count": null,
   "id": "132cd4bd-f7d4-41ca-9762-e51e8c1941c9",
   "metadata": {},
   "outputs": [],
   "source": [
    "from astropy.io import fits\n",
    "import matplotlib.pyplot as plt\n",
    "from importlib import reload\n",
    "import numpy as np\n",
    "%matplotlib inline"
   ]
  },
  {
   "cell_type": "code",
   "execution_count": null,
   "id": "80038b3e",
   "metadata": {},
   "outputs": [],
   "source": [
    "import lib\n",
    "reload(lib)"
   ]
  },
  {
   "cell_type": "code",
   "execution_count": null,
   "id": "83d89d4d-c105-4a42-892a-6cd72975360d",
   "metadata": {},
   "outputs": [],
   "source": [
    "file = \"ztf_20180325251921_000314_zg_c08_o_q2_sciimg.fits\""
   ]
  },
  {
   "cell_type": "code",
   "execution_count": null,
   "id": "7a538d00-4664-4bbe-8679-a6f49585082d",
   "metadata": {},
   "outputs": [],
   "source": [
    "image = fits.open(file)[0]\n",
    "imgdat = image.data"
   ]
  },
  {
   "cell_type": "code",
   "execution_count": null,
   "id": "410fe3fe-a9c8-4e45-afda-19e060f1bbe5",
   "metadata": {},
   "outputs": [],
   "source": [
    "fig = plt.figure(figsize=(8, 8))\n",
    "plt.hist(imgdat.flatten(), bins=100, range=[0,550]);"
   ]
  },
  {
   "cell_type": "code",
   "execution_count": null,
   "id": "8c17b8ce-0ccf-4e19-a33d-b921bba91819",
   "metadata": {},
   "outputs": [],
   "source": [
    "bkg = np.median(imgdat)\n",
    "imgdenoise = imgdat - bkg"
   ]
  },
  {
   "cell_type": "code",
   "execution_count": null,
   "id": "2f61563a",
   "metadata": {},
   "outputs": [],
   "source": [
    "fig = plt.figure(figsize=(8, 8))\n",
    "plt.hist(imgdenoise.flatten(), bins=100, range=[0,150]);"
   ]
  },
  {
   "cell_type": "code",
   "execution_count": null,
   "id": "e62648d6",
   "metadata": {},
   "outputs": [],
   "source": [
    "plt.imshow(imgdat, interpolation='nearest', origin='lower', cmap='gray', vmin=450, vmax=1000)\n",
    "plt.imsave(\"imgraw.png\", imgdat, vmin=450, vmax=1000, cmap=\"gray\", origin=\"lower\")"
   ]
  },
  {
   "cell_type": "code",
   "execution_count": null,
   "id": "bbd374c0",
   "metadata": {},
   "outputs": [],
   "source": [
    "plt.imshow(imgdenoise, interpolation='nearest', origin='lower', cmap='gray', vmin=0, vmax=150)\n",
    "plt.imsave(\"imgdenoise.png\", imgdenoise, vmin=0, vmax=200, cmap=\"gray\", origin=\"lower\")"
   ]
  },
  {
   "cell_type": "code",
   "execution_count": null,
   "id": "46230351",
   "metadata": {},
   "outputs": [],
   "source": [
    "plt.imshow(imgdenoise[2000:2300, 700:1000], interpolation='nearest', origin='lower', cmap='gray', vmin=0, vmax=150)"
   ]
  },
  {
   "cell_type": "code",
   "execution_count": null,
   "id": "c6db049b",
   "metadata": {},
   "outputs": [],
   "source": [
    "reload(lib)\n",
    "starit = iter(lib.in_row(imgdenoise, 1500, 5, 20))\n",
    "cx, cy, r = next(starit)\n",
    "r = int(r) + 2\n",
    "print(cx, cy, r)\n",
    "plt.imshow(imgdenoise[cy - 2 * r:cy + 2 * r, cx - 2 * r:cx + 2 * r], interpolation='nearest', origin='lower', cmap='gray', vmin=0, vmax=150)"
   ]
  },
  {
   "cell_type": "code",
   "execution_count": null,
   "id": "fd009800",
   "metadata": {},
   "outputs": [],
   "source": [
    "i = imgdenoise\n",
    "reload(lib)\n",
    "starit = iter(lib.in_row(i, 1500, 5, 20))\n",
    "cx, cy, r = next(starit)\n",
    "r = int(r)\n",
    "print(cx, cy, r)\n",
    "plt.imshow(i[cx - r:cx +  r, cy -  r:cy + r], interpolation='nearest', origin='lower', cmap='gray', vmin=0, vmax=150)"
   ]
  },
  {
   "cell_type": "code",
   "execution_count": null,
   "id": "3c591729",
   "metadata": {},
   "outputs": [],
   "source": [
    "i = 0\n",
    "reload(lib)\n",
    "x = []\n",
    "y = []\n",
    "ri = []\n",
    "for rd in np.random.randint(0, 3000, 500):\n",
    "    for cx, cy, r in lib.in_row(imgdenoise, rd, 10, 20):\n",
    "        r = int(r)\n",
    "        x.append(cx)\n",
    "        y.append(cy)\n",
    "        ri.append(r)\n",
    "        #plt.figure().clear()\n",
    "        #plt.imsave(f\"result/imgraw{i}.png\", imgdenoise[cx - r:cx +  r, cy -  r:cy + r], vmin=0, vmax=200, cmap=\"gray\", origin=\"lower\");\n",
    "        i += 1\n",
    "print(i)\n",
    "plt.scatter(x, y, r)"
   ]
  },
  {
   "cell_type": "code",
   "execution_count": null,
   "id": "91c88ef1",
   "metadata": {},
   "outputs": [],
   "source": []
  }
 ],
 "metadata": {
  "kernelspec": {
   "display_name": "Python 3.10.4 64-bit",
   "language": "python",
   "name": "python3"
  },
  "language_info": {
   "codemirror_mode": {
    "name": "ipython",
    "version": 3
   },
   "file_extension": ".py",
   "mimetype": "text/x-python",
   "name": "python",
   "nbconvert_exporter": "python",
   "pygments_lexer": "ipython3",
   "version": "3.10.4"
  },
  "vscode": {
   "interpreter": {
    "hash": "7e1498e182d8a133f6b16a9d67a6dd7f4dd07228d1a3d74bd8ec371215c068c1"
   }
  }
 },
 "nbformat": 4,
 "nbformat_minor": 5
}
