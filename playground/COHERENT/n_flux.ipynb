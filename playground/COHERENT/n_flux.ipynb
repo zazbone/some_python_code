{
 "cells": [
  {
   "cell_type": "code",
   "execution_count": null,
   "metadata": {},
   "outputs": [],
   "source": [
    "import numpy as np\n",
    "import astropy.units as u\n",
    "import astropy.constants as cst"
   ]
  },
  {
   "cell_type": "code",
   "execution_count": null,
   "metadata": {},
   "outputs": [],
   "source": [
    "Eneutron = 10 * u.MeV\n",
    "Ethermique = 0.025 * u.eV\n",
    "nhit = np.log(Eneutron / Ethermique)"
   ]
  },
  {
   "cell_type": "code",
   "execution_count": null,
   "metadata": {},
   "outputs": [],
   "source": [
    "Fneutron = 1.5e-7 / u.cm ** 2 / u.s"
   ]
  },
  {
   "cell_type": "code",
   "execution_count": null,
   "metadata": {},
   "outputs": [],
   "source": [
    "volmolHDPE = 0.03 * u.liter / u.mol\n",
    "Nhmol = 4 * cst.N_A\n",
    "nh = (Nhmol / volmolHDPE).to(u.m**-3)\n",
    "NCmol = 2 * cst.N_A\n",
    "nC = (NCmol / volmolHDPE).to(u.m**-3)\n",
    "ncibles = nC + nh\n",
    "(ncibles).to(u.cm ** -3)"
   ]
  },
  {
   "cell_type": "code",
   "execution_count": null,
   "metadata": {},
   "outputs": [],
   "source": [
    "# Diffusion + capture on hydrogen\n",
    "sigma_Hn = 0.5 * u.barn\n",
    "sigma_Cn = 0.5 * u.barn"
   ]
  },
  {
   "cell_type": "code",
   "execution_count": null,
   "metadata": {},
   "outputs": [],
   "source": [
    "L90pc = - np.log(0.5) / (ncibles * sigma_Hn)\n",
    "L90pc = L90pc.to(u.cm)"
   ]
  },
  {
   "cell_type": "code",
   "execution_count": null,
   "metadata": {},
   "outputs": [],
   "source": [
    "macrosigma = nC * sigma_Cn + nh * sigma_Hn\n",
    "NHDPE = np.exp(- macrosigma *  15 * u.cm)\n",
    "Fneutron7cm = Fneutron * NHDPE"
   ]
  },
  {
   "cell_type": "code",
   "execution_count": null,
   "metadata": {},
   "outputs": [],
   "source": [
    "vmolPb = 18e-6 * u.m ** 3 / u.mol\n",
    "nPb = cst.N_A / vmolPb\n",
    "sigmaPb = 5 * u.barn\n",
    "NPb = np.exp(- nPb * sigmaPb * 15 * u.cm)"
   ]
  },
  {
   "cell_type": "code",
   "execution_count": null,
   "metadata": {},
   "outputs": [],
   "source": [
    "phi_neutron = NPb * NHDPE * Fneutron\n",
    "sigma_CsIn = 10 * u.barn\n"
   ]
  },
  {
   "cell_type": "code",
   "execution_count": null,
   "metadata": {},
   "outputs": [],
   "source": [
    "NPb * NHDPE"
   ]
  },
  {
   "cell_type": "code",
   "execution_count": null,
   "metadata": {},
   "outputs": [],
   "source": [
    "m_detector = 14.6 * u.kg\n",
    "MmolCsI = 259.8 * u.g / u.mol\n",
    "NcibleCsI = (m_detector / MmolCsI * cst.N_A).to(u.dimensionless_unscaled)"
   ]
  },
  {
   "cell_type": "code",
   "execution_count": null,
   "metadata": {},
   "outputs": [],
   "source": [
    "R_int = (sigma_CsIn * NcibleCsI * phi_neutron).to(u.Hz)"
   ]
  }
 ],
 "metadata": {
  "kernelspec": {
   "display_name": "Python 3.9.13 ('.env': venv)",
   "language": "python",
   "name": "python3"
  },
  "language_info": {
   "codemirror_mode": {
    "name": "ipython",
    "version": 3
   },
   "file_extension": ".py",
   "mimetype": "text/x-python",
   "name": "python",
   "nbconvert_exporter": "python",
   "pygments_lexer": "ipython3",
   "version": "3.10.6 (main, Nov 14 2022, 16:10:14) [GCC 11.3.0]"
  },
  "orig_nbformat": 4,
  "vscode": {
   "interpreter": {
    "hash": "fe909aeefd0b97bdcbc3a72b6649284a995ad2ecd1fd02164df7306aa56a6052"
   }
  }
 },
 "nbformat": 4,
 "nbformat_minor": 2
}
