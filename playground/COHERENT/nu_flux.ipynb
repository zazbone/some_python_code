{
 "cells": [
  {
   "cell_type": "code",
   "execution_count": null,
   "metadata": {},
   "outputs": [],
   "source": [
    "import numpy as np\n",
    "import astropy.units as u\n",
    "import astropy.constants as cst"
   ]
  },
  {
   "cell_type": "code",
   "execution_count": null,
   "metadata": {},
   "outputs": [],
   "source": [
    "m_detector = 14.6 * u.kg\n",
    "MmolCsI = 259.8 * u.g / u.mol\n",
    "Ncible = (m_detector / MmolCsI * cst.N_A).to(u.dimensionless_unscaled)"
   ]
  },
  {
   "cell_type": "code",
   "execution_count": null,
   "metadata": {},
   "outputs": [],
   "source": [
    "d_detector = 20 * u.m\n",
    "Fproton = 5e20 / u.day\n",
    "Fneutrino = 3 * 0.08 * Fproton\n",
    "solid_angle = 4 * np.pi * d_detector ** 2\n",
    "phi_neutrino = (Fneutrino / solid_angle).to(u.Hz / u.cm ** 2)"
   ]
  },
  {
   "cell_type": "code",
   "execution_count": null,
   "metadata": {},
   "outputs": [],
   "source": [
    "sigma_CsI = 1e-38 * u.cm ** 2"
   ]
  },
  {
   "cell_type": "code",
   "execution_count": null,
   "metadata": {},
   "outputs": [],
   "source": [
    "R_int = (sigma_CsI * Ncible * phi_neutrino).to(u.Hz)"
   ]
  },
  {
   "cell_type": "code",
   "execution_count": null,
   "metadata": {},
   "outputs": [],
   "source": [
    "T = (308 * u.day).to(u.s)\n",
    "N_event = (R_int * T).to(u.dimensionless_unscaled)"
   ]
  },
  {
   "cell_type": "code",
   "execution_count": null,
   "metadata": {},
   "outputs": [],
   "source": [
    "24 * 3600"
   ]
  },
  {
   "cell_type": "code",
   "execution_count": null,
   "metadata": {},
   "outputs": [],
   "source": [
    "Nproton = 1.76e23\n",
    "Nneutrino = Nproton * 0.08 * 3\n",
    "\n",
    "Ndetector = Nneutrino / solid_angle\n",
    "(Ndetector * Ncible * sigma_CsI).to(u.dimensionless_unscaled)"
   ]
  }
 ],
 "metadata": {
  "kernelspec": {
   "display_name": ".env",
   "language": "python",
   "name": "python3"
  },
  "language_info": {
   "codemirror_mode": {
    "name": "ipython",
    "version": 3
   },
   "file_extension": ".py",
   "mimetype": "text/x-python",
   "name": "python",
   "nbconvert_exporter": "python",
   "pygments_lexer": "ipython3",
   "version": "3.10.6 (main, Nov 14 2022, 16:10:14) [GCC 11.3.0]"
  },
  "orig_nbformat": 4,
  "vscode": {
   "interpreter": {
    "hash": "fe909aeefd0b97bdcbc3a72b6649284a995ad2ecd1fd02164df7306aa56a6052"
   }
  }
 },
 "nbformat": 4,
 "nbformat_minor": 2
}
