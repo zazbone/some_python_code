{
 "cells": [
  {
   "cell_type": "markdown",
   "metadata": {},
   "source": [
    "# Decoupling\n",
    "\n",
    "Visualisation schématique du découplage des interactions fondamentales lors des variation de températures \n",
    "\n",
    "$$\\Lambda\\alpha T^{3 + n}$$\n",
    "\n",
    "$$H\\alpha T^{2}$$\n",
    "Ou n provient de la dépendance en energie de l'interaction $\\sigma\\alpha E^n\\alpha T^n$\n",
    "\n",
    "\n",
    "Condition de découplage\n",
    "$$\\Lambda << H$$\n",
    "\n",
    "$$\\frac{\\Lambda}{H}\\alpha T^{1 + n}$$"
   ]
  },
  {
   "cell_type": "code",
   "execution_count": null,
   "metadata": {},
   "outputs": [],
   "source": [
    "import numpy as np\n",
    "import matplotlib.pyplot as plt"
   ]
  },
  {
   "cell_type": "code",
   "execution_count": null,
   "metadata": {},
   "outputs": [],
   "source": [
    "NELECTROWEAK = 2\n",
    "NBOSONS = -2\n",
    "N = [NELECTROWEAK, NBOSONS]"
   ]
  },
  {
   "cell_type": "code",
   "execution_count": null,
   "metadata": {},
   "outputs": [],
   "source": [
    "T = np.logspace(-3, 5, 1024)"
   ]
  },
  {
   "cell_type": "code",
   "execution_count": null,
   "metadata": {},
   "outputs": [],
   "source": [
    "for n in N:\n",
    "    plt.plot(T, np.power(T, 1 + n), label=f\"$\\sigma \\\\alpha T^{{{n}}}$\")\n",
    "plt.xscale(\"log\")\n",
    "plt.yscale(\"log\")\n",
    "plt.legend()"
   ]
  },
  {
   "cell_type": "markdown",
   "metadata": {},
   "source": [
    "# H(a) dominance evolution\n",
    "\n",
    "$$H^2 = \\frac{8\\pi G}{3}\\rho_{rel.} + \\frac{8\\pi G}{3}\\rho_{non rel.} - \\frac{k}{a^2} + \\frac{\\Lambda}{3}$$"
   ]
  },
  {
   "cell_type": "code",
   "execution_count": null,
   "metadata": {},
   "outputs": [],
   "source": [
    "a = np.logspace(-2, 10, 1024)\n",
    "rho_rel = np.power(a, -4)\n",
    "rho_nrel = np.power(a, -3)\n",
    "k = np.power(a, -2)\n",
    "L = np.full(1024, 1e-20)"
   ]
  },
  {
   "cell_type": "code",
   "execution_count": null,
   "metadata": {},
   "outputs": [],
   "source": [
    "plt.plot(a, rho_nrel + rho_rel + k + L, color=\"red\", label=\"$H^2$\")\n",
    "plt.plot(a, rho_rel, linestyle=\"dotted\", label=r\"$\\frac{1}{a^4}$\")\n",
    "plt.plot(a, rho_nrel, linestyle=\"dotted\", label=r\"$\\frac{1}{a^3}$\")\n",
    "plt.plot(a, k, linestyle=\"dotted\", label=r\"$\\frac{1}{a^2}$\")\n",
    "plt.plot(a, L, linestyle=\"dotted\", label=r\"$cst\")\n",
    "plt.xscale(\"log\")\n",
    "plt.yscale(\"log\")"
   ]
  },
  {
   "cell_type": "code",
   "execution_count": null,
   "metadata": {},
   "outputs": [],
   "source": []
  }
 ],
 "metadata": {
  "kernelspec": {
   "display_name": "Python 3 (ipykernel)",
   "language": "python",
   "name": "python3"
  },
  "language_info": {
   "codemirror_mode": {
    "name": "ipython",
    "version": 3
   },
   "file_extension": ".py",
   "mimetype": "text/x-python",
   "name": "python",
   "nbconvert_exporter": "python",
   "pygments_lexer": "ipython3",
   "version": "3.10.6 (main, Nov 14 2022, 16:10:14) [GCC 11.3.0]"
  },
  "vscode": {
   "interpreter": {
    "hash": "fe909aeefd0b97bdcbc3a72b6649284a995ad2ecd1fd02164df7306aa56a6052"
   }
  }
 },
 "nbformat": 4,
 "nbformat_minor": 2
}
