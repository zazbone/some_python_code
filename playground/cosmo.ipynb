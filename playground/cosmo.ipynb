{
 "cells": [
  {
   "cell_type": "markdown",
   "metadata": {},
   "source": [
    "Visualisation schématique du découplage des interactions fondamentales lors des variation de températures \n",
    "\n",
    "$$\\Lambda\\alpha T^{3 + n}$$\n",
    "\n",
    "$$H\\alpha T^{2}$$\n",
    "Ou n provient de la dépendance en energie de l'interaction $\\sigma\\alpha E^n\\alpha T^n$\n",
    "\n",
    "\n",
    "Condition de découplage\n",
    "$$\\Lambda << H$$\n",
    "\n",
    "$$\\frac{\\Lambda}{H}\\alpha T^{1 + n}$$"
   ]
  },
  {
   "cell_type": "code",
   "execution_count": null,
   "metadata": {},
   "outputs": [],
   "source": [
    "import numpy as np\n",
    "import matplotlib.pyplot as plt"
   ]
  },
  {
   "cell_type": "code",
   "execution_count": null,
   "metadata": {},
   "outputs": [],
   "source": [
    "NELECTROWEAK = 2\n",
    "NBOSONS = -2\n",
    "N = [NELECTROWEAK, NBOSONS]"
   ]
  },
  {
   "cell_type": "code",
   "execution_count": null,
   "metadata": {},
   "outputs": [],
   "source": [
    "T = np.logspace(-3, 5, 1024)"
   ]
  },
  {
   "cell_type": "code",
   "execution_count": null,
   "metadata": {},
   "outputs": [],
   "source": [
    "for n in N:\n",
    "    plt.plot(T, np.power(T, 1 + n))\n",
    "plt.xscale(\"log\")\n",
    "plt.yscale(\"log\")"
   ]
  }
 ],
 "metadata": {
  "kernelspec": {
   "display_name": "Python 3.9.13 ('.env': venv)",
   "language": "python",
   "name": "python3"
  },
  "language_info": {
   "codemirror_mode": {
    "name": "ipython",
    "version": 3
   },
   "file_extension": ".py",
   "mimetype": "text/x-python",
   "name": "python",
   "nbconvert_exporter": "python",
   "pygments_lexer": "ipython3",
   "version": "3.9.13"
  },
  "orig_nbformat": 4,
  "vscode": {
   "interpreter": {
    "hash": "fe909aeefd0b97bdcbc3a72b6649284a995ad2ecd1fd02164df7306aa56a6052"
   }
  }
 },
 "nbformat": 4,
 "nbformat_minor": 2
}
